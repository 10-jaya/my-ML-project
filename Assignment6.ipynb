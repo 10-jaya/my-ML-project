{
 "cells": [
  {
   "cell_type": "code",
   "execution_count": 2,
   "metadata": {},
   "outputs": [
    {
     "data": {
      "text/plain": [
       "'An iterator is an object that is used to  iterate through an iterable element.Most of the objects of Python are iterable. \\nIn python, all the sequences like Python String,List,Dictionary are iterable.Now we will discuss what is iterator...lets take an \\nExample= A group of 5 student are standing in a line. Your are pointing at the first student and ask him about his name. Then, he replied. \\nAfter that,  you ask the next student and so on.You are the Iterator and the group of students is the iterable element.\\n-> iter() and next() there are two iteraote protocol.\\n . iter() function is used to create an iterator of an iterable element. \\n . next() function is used to iterate to the next element.'"
      ]
     },
     "execution_count": 2,
     "metadata": {},
     "output_type": "execute_result"
    }
   ],
   "source": [
    "#Iterators:-\n",
    "\"\"\"An iterator is an object that is used to  iterate through an iterable element.Most of the objects of Python are iterable. \n",
    "In python, all the sequences like Python String,List,Dictionary are iterable.Now we will discuss what is iterator...lets take an \n",
    "Example= A group of 5 student are standing in a line. Your are pointing at the first student and ask him about his name. Then, he replied. \n",
    "After that,  you ask the next student and so on.You are the Iterator and the group of students is the iterable element.\n",
    "-> iter() and next() there are two iteraote protocol.\n",
    " . iter() function is used to create an iterator of an iterable element. \n",
    " . next() function is used to iterate to the next element.\"\"\"\n",
    "\n"
   ]
  },
  {
   "cell_type": "code",
   "execution_count": 5,
   "metadata": {},
   "outputs": [
    {
     "name": "stdout",
     "output_type": "stream",
     "text": [
      "Student 1\n",
      "Student 2\n",
      "Student 3\n",
      "Student 4\n",
      "Student 5\n"
     ]
    },
    {
     "ename": "StopIteration",
     "evalue": "",
     "output_type": "error",
     "traceback": [
      "\u001b[1;31m---------------------------------------------------------------------------\u001b[0m",
      "\u001b[1;31mStopIteration\u001b[0m                             Traceback (most recent call last)",
      "\u001b[1;32m<ipython-input-5-d9e699a880cf>\u001b[0m in \u001b[0;36m<module>\u001b[1;34m()\u001b[0m\n\u001b[0;32m     26\u001b[0m \u001b[1;31m# point the next student, but there is no student left\u001b[0m\u001b[1;33m\u001b[0m\u001b[1;33m\u001b[0m\u001b[0m\n\u001b[0;32m     27\u001b[0m \u001b[1;31m# so raise 'StopIteration' exception\u001b[0m\u001b[1;33m\u001b[0m\u001b[1;33m\u001b[0m\u001b[0m\n\u001b[1;32m---> 28\u001b[1;33m \u001b[0moutput\u001b[0m \u001b[1;33m=\u001b[0m \u001b[0mnext\u001b[0m\u001b[1;33m(\u001b[0m\u001b[0miterator_you\u001b[0m\u001b[1;33m)\u001b[0m\u001b[1;33m\u001b[0m\u001b[0m\n\u001b[0m\u001b[0;32m     29\u001b[0m \u001b[0mprint\u001b[0m\u001b[1;33m(\u001b[0m\u001b[0moutput\u001b[0m\u001b[1;33m)\u001b[0m\u001b[1;33m\u001b[0m\u001b[0m\n",
      "\u001b[1;31mStopIteration\u001b[0m: "
     ]
    }
   ],
   "source": [
    "#example:\n",
    "l1=['Student 1', 'Student 2', 'Student 3', 'Student 4', 'Student 5']\n",
    "\n",
    "iterator_you = iter(l1)\n",
    "\n",
    "# point the first student\n",
    "output = next(iterator_you)\n",
    "print(output)\n",
    "\n",
    "# the second student\n",
    "output = next(iterator_you)\n",
    "print(output)\n",
    "\n",
    "# the third student\n",
    "output = next(iterator_you)\n",
    "print(output)\n",
    "\n",
    "#  the fourth student\n",
    "output = next(iterator_you)\n",
    "print(output)\n",
    "\n",
    "# the fifth student\n",
    "output = next(iterator_you)\n",
    "print(output)\n",
    "\n",
    "# point the next student, but there is no student left\n",
    "# so raise 'StopIteration' exception\n",
    "output = next(iterator_you)\n",
    "print(output)\n"
   ]
  },
  {
   "cell_type": "code",
   "execution_count": 7,
   "metadata": {},
   "outputs": [
    {
     "name": "stdout",
     "output_type": "stream",
     "text": [
      "[10, 20, 30, 40]\n"
     ]
    }
   ],
   "source": [
    "# Map() with example:-\n",
    "\"\"\"map() function returns a list of the results after applying the given function to each item of a given iterable (list, \n",
    "tuple etc.)\n",
    "Syntax :\n",
    "        map(fun, iter)\n",
    "\n",
    "fun : It is a function to which map passes each element of given iterable.\n",
    "iter : It is a iterable which is to be mapped.\"\"\"\n",
    "#example:-\n",
    "\n",
    "def addition(x): \n",
    "    return x + x\n",
    "  \n",
    "# We double all numbers using map() \n",
    "numbers = (5, 10, 15, 20) \n",
    "result = map(addition, numbers) \n",
    "print(list(result))\n"
   ]
  },
  {
   "cell_type": "code",
   "execution_count": 9,
   "metadata": {},
   "outputs": [
    {
     "data": {
      "text/plain": [
       "'This reduce()  call perform the following operation:\\n(((5 + 10) + 15) + 20) => 50'"
      ]
     },
     "execution_count": 9,
     "metadata": {},
     "output_type": "execute_result"
    }
   ],
   "source": [
    "# Reduce() function:\n",
    "\"\"\"The reduce() function accepts a function and a sequence and returns a single value calculated as follows:;-\n",
    "\n",
    ". Initially, the function is called with the first two items from the sequence and the result is returned.\n",
    ". The function is then called again with the result obtained in step 1 and the next value in the sequence. This process keeps\n",
    "  repeating until there are items in the sequence.\n",
    "  syntax: reduce(function, sequence[, initial]) -> value\"\"\"\n",
    "\n",
    "#example:-\n",
    "from functools import reduce\n",
    "def do_sum(n1, n2):\n",
    "    return n1 + n2\n",
    "reduce(do_sum, [5, 10, 15, 20])\n",
    "\n",
    "#Explain:-\n",
    "\"\"\"This reduce()  call perform the following operation:\n",
    "(((5 + 10) + 15) + 20) => 50\"\"\"\n",
    "\n"
   ]
  },
  {
   "cell_type": "code",
   "execution_count": null,
   "metadata": {
    "collapsed": true
   },
   "outputs": [],
   "source": []
  }
 ],
 "metadata": {
  "kernelspec": {
   "display_name": "Python 3",
   "language": "python",
   "name": "python3"
  },
  "language_info": {
   "codemirror_mode": {
    "name": "ipython",
    "version": 3
   },
   "file_extension": ".py",
   "mimetype": "text/x-python",
   "name": "python",
   "nbconvert_exporter": "python",
   "pygments_lexer": "ipython3",
   "version": "3.6.1"
  }
 },
 "nbformat": 4,
 "nbformat_minor": 2
}
