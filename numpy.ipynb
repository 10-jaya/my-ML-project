{
 "cells": [
  {
   "cell_type": "code",
   "execution_count": 50,
   "metadata": {
    "collapsed": true
   },
   "outputs": [],
   "source": [
    "import numpy as np"
   ]
  },
  {
   "cell_type": "code",
   "execution_count": 51,
   "metadata": {
    "collapsed": true
   },
   "outputs": [],
   "source": [
    "x= np.array([2,3,4,5])\n",
    "y= np.array([3,4,7,1])"
   ]
  },
  {
   "cell_type": "code",
   "execution_count": 52,
   "metadata": {},
   "outputs": [
    {
     "name": "stdout",
     "output_type": "stream",
     "text": [
      "[0.69314718 1.09861229 1.38629436 1.60943791]\n"
     ]
    }
   ],
   "source": [
    "z= np.log(x)\n",
    "print(z)\n"
   ]
  },
  {
   "cell_type": "code",
   "execution_count": 53,
   "metadata": {},
   "outputs": [
    {
     "name": "stdout",
     "output_type": "stream",
     "text": [
      "[  20.08553692   54.59815003 1096.63315843    2.71828183]\n"
     ]
    }
   ],
   "source": [
    "z= np.exp(y)\n",
    "print(z)\n"
   ]
  },
  {
   "cell_type": "code",
   "execution_count": 54,
   "metadata": {},
   "outputs": [
    {
     "name": "stdout",
     "output_type": "stream",
     "text": [
      "[1.41421356 1.73205081 2.         2.23606798]\n"
     ]
    }
   ],
   "source": [
    "z= np.sqrt(x)\n",
    "print(z)\n"
   ]
  },
  {
   "cell_type": "code",
   "execution_count": 55,
   "metadata": {},
   "outputs": [
    {
     "name": "stdout",
     "output_type": "stream",
     "text": [
      "51\n"
     ]
    }
   ],
   "source": [
    "z= np.dot(x,y)\n",
    "z= x.dot(y)\n",
    "print(z)\n"
   ]
  },
  {
   "cell_type": "code",
   "execution_count": 56,
   "metadata": {},
   "outputs": [
    {
     "name": "stdout",
     "output_type": "stream",
     "text": [
      "12.806248474865697\n"
     ]
    }
   ],
   "source": [
    "z= np.linalg.norm(a)\n",
    "print(z)\n",
    "\n"
   ]
  },
  {
   "cell_type": "code",
   "execution_count": 57,
   "metadata": {},
   "outputs": [
    {
     "name": "stdout",
     "output_type": "stream",
     "text": [
      "60.10407640085655\n"
     ]
    }
   ],
   "source": [
    "cosangle= x.dot(y) / np.linalg.norm(x) * np.linalg.norm(y)\n",
    "print(cosangle)\n"
   ]
  },
  {
   "cell_type": "code",
   "execution_count": 58,
   "metadata": {},
   "outputs": [
    {
     "name": "stdout",
     "output_type": "stream",
     "text": [
      "0.45102681179626236\n"
     ]
    }
   ],
   "source": [
    "angle = np.arccos(0.90)\n",
    "print(angle)\n"
   ]
  },
  {
   "cell_type": "code",
   "execution_count": 59,
   "metadata": {},
   "outputs": [
    {
     "name": "stdout",
     "output_type": "stream",
     "text": [
      "[[4 5 7]\n",
      " [8 1 3]]\n",
      "1\n",
      "[[4 5 7]\n",
      " [8 1 3]]\n",
      "[[4 8]\n",
      " [5 1]\n",
      " [7 3]]\n"
     ]
    }
   ],
   "source": [
    "x = np.matrix([[4,5,7],[8,1,3]])\n",
    "print(x)\n",
    "print(x[1,1])\n",
    "a = np.array(x)\n",
    "print(a)\n",
    "print(a.T)\n",
    "\n"
   ]
  },
  {
   "cell_type": "code",
   "execution_count": 60,
   "metadata": {},
   "outputs": [
    {
     "name": "stdout",
     "output_type": "stream",
     "text": [
      "[0. 0. 0. 0. 0. 0. 0. 0.]\n"
     ]
    }
   ],
   "source": [
    "z = np.zeros(8)\n",
    "print(z)\n",
    "\n"
   ]
  },
  {
   "cell_type": "code",
   "execution_count": 61,
   "metadata": {},
   "outputs": [
    {
     "name": "stdout",
     "output_type": "stream",
     "text": [
      "[[0.]]\n"
     ]
    }
   ],
   "source": [
    "m = np.zeros((1,1))\n",
    "print(m)\n"
   ]
  },
  {
   "cell_type": "code",
   "execution_count": 62,
   "metadata": {},
   "outputs": [
    {
     "name": "stdout",
     "output_type": "stream",
     "text": [
      "[[1. 1.]\n",
      " [1. 1.]]\n"
     ]
    }
   ],
   "source": [
    "o = np.ones((2,2))\n",
    "print(o)\n"
   ]
  },
  {
   "cell_type": "code",
   "execution_count": 63,
   "metadata": {},
   "outputs": [
    {
     "name": "stdout",
     "output_type": "stream",
     "text": [
      "[[0.89132108 0.12833736]\n",
      " [0.86551638 0.33951352]]\n"
     ]
    }
   ],
   "source": [
    "r = np.random.random((2,2))\n",
    "print(r)\n"
   ]
  },
  {
   "cell_type": "code",
   "execution_count": 64,
   "metadata": {},
   "outputs": [
    {
     "name": "stdout",
     "output_type": "stream",
     "text": [
      "[[ 0.31549531  1.65839919]\n",
      " [-0.19838438  0.6966307 ]]\n"
     ]
    }
   ],
   "source": [
    "h = np.random.randn(2,2)\n",
    "print(h)\n"
   ]
  },
  {
   "cell_type": "code",
   "execution_count": 65,
   "metadata": {},
   "outputs": [
    {
     "name": "stdout",
     "output_type": "stream",
     "text": [
      "0.6180352042424176\n",
      "0.46165145475171526\n"
     ]
    }
   ],
   "source": [
    "print(h.mean())\n",
    "print(h.var())\n"
   ]
  },
  {
   "cell_type": "code",
   "execution_count": 66,
   "metadata": {},
   "outputs": [],
   "source": [
    "p = np.array([[3,5,7],[3,5,1],[7,8,3]])\n",
    "q = np.array([[5,6],[1,2],[6,7]])\n",
    "\n",
    "\n",
    "\n",
    "\n"
   ]
  },
  {
   "cell_type": "code",
   "execution_count": 67,
   "metadata": {},
   "outputs": [
    {
     "name": "stdout",
     "output_type": "stream",
     "text": [
      "[[62 77]\n",
      " [26 35]\n",
      " [61 79]]\n"
     ]
    }
   ],
   "source": [
    "r = p.dot(q)\n",
    "print(r)\n",
    "\n",
    "\n"
   ]
  },
  {
   "cell_type": "code",
   "execution_count": 68,
   "metadata": {},
   "outputs": [
    {
     "name": "stdout",
     "output_type": "stream",
     "text": [
      "[[-1.06060606e-01 -6.21212121e-01  4.54545455e-01]\n",
      " [ 3.03030303e-02  6.06060606e-01 -2.72727273e-01]\n",
      " [ 1.66666667e-01 -1.66666667e-01 -7.93016446e-18]]\n"
     ]
    }
   ],
   "source": [
    "pinv = np.linalg.inv(p)\n",
    "print(pinv)\n"
   ]
  },
  {
   "cell_type": "code",
   "execution_count": 69,
   "metadata": {},
   "outputs": [
    {
     "name": "stdout",
     "output_type": "stream",
     "text": [
      "[[1.00000000e+00 1.11022302e-16 3.08148791e-33]\n",
      " [0.00000000e+00 1.00000000e+00 4.75809868e-17]\n",
      " [2.77555756e-17 1.11022302e-16 1.00000000e+00]]\n"
     ]
    }
   ],
   "source": [
    "correct = p.dot(pinv)\n",
    "print(correct)\n"
   ]
  },
  {
   "cell_type": "code",
   "execution_count": 70,
   "metadata": {},
   "outputs": [
    {
     "name": "stdout",
     "output_type": "stream",
     "text": [
      "-65.99999999999997\n"
     ]
    }
   ],
   "source": [
    "d = np.linalg.det(p)\n",
    "print(d)\n"
   ]
  },
  {
   "cell_type": "code",
   "execution_count": 71,
   "metadata": {},
   "outputs": [
    {
     "name": "stdout",
     "output_type": "stream",
     "text": [
      "[3 5 3]\n"
     ]
    }
   ],
   "source": [
    "di = np.diag(p)\n",
    "print(di)\n"
   ]
  },
  {
   "cell_type": "code",
   "execution_count": 72,
   "metadata": {},
   "outputs": [
    {
     "name": "stdout",
     "output_type": "stream",
     "text": [
      "5\n"
     ]
    }
   ],
   "source": [
    "x = np.trace(x)\n",
    "print(x)\n"
   ]
  },
  {
   "cell_type": "code",
   "execution_count": null,
   "metadata": {
    "collapsed": true
   },
   "outputs": [],
   "source": []
  },
  {
   "cell_type": "code",
   "execution_count": null,
   "metadata": {
    "collapsed": true
   },
   "outputs": [],
   "source": []
  }
 ],
 "metadata": {
  "kernelspec": {
   "display_name": "Python 3",
   "language": "python",
   "name": "python3"
  },
  "language_info": {
   "codemirror_mode": {
    "name": "ipython",
    "version": 3
   },
   "file_extension": ".py",
   "mimetype": "text/x-python",
   "name": "python",
   "nbconvert_exporter": "python",
   "pygments_lexer": "ipython3",
   "version": "3.6.1"
  }
 },
 "nbformat": 4,
 "nbformat_minor": 2
}
