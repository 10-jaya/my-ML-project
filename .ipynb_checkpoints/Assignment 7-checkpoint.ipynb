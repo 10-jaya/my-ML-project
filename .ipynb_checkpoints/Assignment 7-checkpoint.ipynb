{
 "cells": [
  {
   "cell_type": "code",
   "execution_count": 167,
   "metadata": {
    "collapsed": true
   },
   "outputs": [],
   "source": [
    "import pandas as pd\n",
    "import matplotlib.pyplot as plt, mpld3\n",
    "from IPython.display import HTML\n",
    "%matplotlib inline\n"
   ]
  },
  {
   "cell_type": "code",
   "execution_count": 63,
   "metadata": {
    "collapsed": true
   },
   "outputs": [],
   "source": [
    "assignmentDF=pd.read_csv('Assignment Completion (Responses) - Form Responses 1.csv')\n",
    "#print(df)"
   ]
  },
  {
   "cell_type": "code",
   "execution_count": 64,
   "metadata": {
    "collapsed": true
   },
   "outputs": [],
   "source": [
    "starDF=pd.read_csv('star_data.csv')\n",
    "#print(df)"
   ]
  },
  {
   "cell_type": "code",
   "execution_count": 65,
   "metadata": {
    "collapsed": true
   },
   "outputs": [],
   "source": [
    "filteredStarDF =starDF[['Stars', 'Name']]\n",
    "filteredStarDF =filteredStarDF[filteredStarDF['Stars']>0]\n",
    "#filtered"
   ]
  },
  {
   "cell_type": "code",
   "execution_count": 66,
   "metadata": {
    "collapsed": true
   },
   "outputs": [],
   "source": [
    "#ax=filtered.plot.area(title='Star Performers')\n",
    "#ax.set(xlabel='Stars', ylabel='Name')\n"
   ]
  },
  {
   "cell_type": "code",
   "execution_count": 186,
   "metadata": {},
   "outputs": [
    {
     "data": {
      "image/png": "[encoded data removed]",
      "text/plain": [
       "<matplotlib.figure.Figure at 0x223f83f2240>"
      ]
     },
     "metadata": {},
     "output_type": "display_data"
    }
   ],
   "source": [
    "\n",
    "filteredStarDF = filteredStarDF.sort_values('Stars', ascending=True)\n",
    "numbers = range(len(filteredStarDF['Name'])) \n",
    "\n",
    "fig, ax = plt.subplots()\n",
    "ax.barh( numbers, filteredStarDF['Stars'], align='center', color='yellow')\n",
    "ax.set_yticks(numbers)\n",
    "ax.set_yticklabels(filteredStarDF['Name']) \n",
    "plt.show()\n",
    "starGraphHTML=mpld3.fig_to_html(fig)"
   ]
  },
  {
   "cell_type": "code",
   "execution_count": 175,
   "metadata": {
    "collapsed": true
   },
   "outputs": [],
   "source": [
    "#total no of stars\n",
    "#print('Total No of Stars ')\n",
    "totalStarEarned = filteredStarDF['Stars'].sum()"
   ]
  },
  {
   "cell_type": "code",
   "execution_count": 69,
   "metadata": {
    "collapsed": true
   },
   "outputs": [],
   "source": [
    "#df"
   ]
  },
  {
   "cell_type": "code",
   "execution_count": 70,
   "metadata": {
    "collapsed": true
   },
   "outputs": [],
   "source": [
    "filteredRADF=assignmentDF[['Registration Number', 'Assignment Number']]"
   ]
  },
  {
   "cell_type": "code",
   "execution_count": 71,
   "metadata": {
    "collapsed": true
   },
   "outputs": [],
   "source": [
    "filteredRADF.columns = ['Reg', 'AssignmentNo']"
   ]
  },
  {
   "cell_type": "code",
   "execution_count": 72,
   "metadata": {
    "collapsed": true
   },
   "outputs": [],
   "source": [
    "#RA"
   ]
  },
  {
   "cell_type": "code",
   "execution_count": 73,
   "metadata": {
    "collapsed": true
   },
   "outputs": [],
   "source": [
    "#RA.columns = ['Reg', 'AssignmentNo']\n",
    "filteredRADF=filteredRADF.assign(Reg=filteredRADF['Reg'].str.upper())"
   ]
  },
  {
   "cell_type": "code",
   "execution_count": 74,
   "metadata": {
    "collapsed": true
   },
   "outputs": [],
   "source": [
    "unsorted_filteredRADF=filteredRADF.drop_duplicates(subset=['Reg'], keep='last')"
   ]
  },
  {
   "cell_type": "code",
   "execution_count": 75,
   "metadata": {
    "collapsed": true
   },
   "outputs": [],
   "source": [
    "sorted_filteredRADF=unsorted_filteredRADF.sort_values('AssignmentNo', ascending=False)"
   ]
  },
  {
   "cell_type": "code",
   "execution_count": 76,
   "metadata": {
    "collapsed": true
   },
   "outputs": [],
   "source": [
    "#RA"
   ]
  },
  {
   "cell_type": "code",
   "execution_count": 77,
   "metadata": {
    "collapsed": true
   },
   "outputs": [],
   "source": [
    "#stardf"
   ]
  },
  {
   "cell_type": "code",
   "execution_count": 78,
   "metadata": {
    "collapsed": true
   },
   "outputs": [],
   "source": [
    "TotalStudents=starDF['Name'].count()"
   ]
  },
  {
   "cell_type": "code",
   "execution_count": 79,
   "metadata": {},
   "outputs": [
    {
     "name": "stdout",
     "output_type": "stream",
     "text": [
      "Total Students \n",
      " 34\n"
     ]
    }
   ],
   "source": [
    "#total students\n",
    "print('Total Students \\n', TotalStudents)"
   ]
  },
  {
   "cell_type": "code",
   "execution_count": 80,
   "metadata": {
    "collapsed": true
   },
   "outputs": [],
   "source": [
    "filteredRNDF =starDF[['Registration No.', 'Name']]"
   ]
  },
  {
   "cell_type": "code",
   "execution_count": 81,
   "metadata": {
    "collapsed": true
   },
   "outputs": [],
   "source": [
    "#filtered"
   ]
  },
  {
   "cell_type": "code",
   "execution_count": 82,
   "metadata": {
    "collapsed": true
   },
   "outputs": [],
   "source": [
    "filteredRNDF.columns = ['Reg', 'Name']"
   ]
  },
  {
   "cell_type": "code",
   "execution_count": 83,
   "metadata": {
    "collapsed": true
   },
   "outputs": [],
   "source": [
    "#filtered"
   ]
  },
  {
   "cell_type": "code",
   "execution_count": 84,
   "metadata": {
    "collapsed": true
   },
   "outputs": [],
   "source": [
    "mergedDF=pd.merge(filteredRADF, filteredRNDF,on=\"Reg\")"
   ]
  },
  {
   "cell_type": "code",
   "execution_count": 85,
   "metadata": {
    "collapsed": true
   },
   "outputs": [],
   "source": [
    "#Merged"
   ]
  },
  {
   "cell_type": "code",
   "execution_count": 86,
   "metadata": {
    "collapsed": true
   },
   "outputs": [],
   "source": [
    "assignSubListDF =mergedDF[['Name', 'AssignmentNo']]"
   ]
  },
  {
   "cell_type": "code",
   "execution_count": 189,
   "metadata": {
    "collapsed": true
   },
   "outputs": [],
   "source": [
    "assignSubListDF=assignSubListDF.drop_duplicates(subset=['Name'], keep='last').sort_values('AssignmentNo', ascending=False)\n",
    "assignSubListHTML = assignSubListDF.to_html(classes='my_table');"
   ]
  },
  {
   "cell_type": "code",
   "execution_count": 97,
   "metadata": {
    "collapsed": true
   },
   "outputs": [],
   "source": [
    "totalSubmission=assignmentDF['Assignment Number'].count()"
   ]
  },
  {
   "cell_type": "code",
   "execution_count": 98,
   "metadata": {},
   "outputs": [
    {
     "data": {
      "text/plain": [
       "119"
      ]
     },
     "execution_count": 98,
     "metadata": {},
     "output_type": "execute_result"
    }
   ],
   "source": [
    "totalSubmission\n"
   ]
  },
  {
   "cell_type": "code",
   "execution_count": 101,
   "metadata": {
    "collapsed": true
   },
   "outputs": [],
   "source": [
    "TotalMembers=starDF['Name'].count()"
   ]
  },
  {
   "cell_type": "code",
   "execution_count": 102,
   "metadata": {},
   "outputs": [
    {
     "data": {
      "text/plain": [
       "34"
      ]
     },
     "execution_count": 102,
     "metadata": {},
     "output_type": "execute_result"
    }
   ],
   "source": [
    "TotalMembers"
   ]
  },
  {
   "cell_type": "code",
   "execution_count": 107,
   "metadata": {
    "collapsed": true
   },
   "outputs": [],
   "source": [
    "filteredStarRDF =starDF[['Registration No.']]\n",
    "#filtered"
   ]
  },
  {
   "cell_type": "code",
   "execution_count": 108,
   "metadata": {
    "collapsed": true
   },
   "outputs": [],
   "source": [
    "filteredStarRDF.columns = ['Reg']"
   ]
  },
  {
   "cell_type": "code",
   "execution_count": 151,
   "metadata": {},
   "outputs": [
    {
     "data": {
      "text/plain": [
       "(34, 1)"
      ]
     },
     "execution_count": 151,
     "metadata": {},
     "output_type": "execute_result"
    }
   ],
   "source": [
    "filteredStarRDF.shape\n",
    "#filteredStarRDF"
   ]
  },
  {
   "cell_type": "code",
   "execution_count": 115,
   "metadata": {},
   "outputs": [
    {
     "data": {
      "text/plain": [
       "(119, 1)"
      ]
     },
     "execution_count": 115,
     "metadata": {},
     "output_type": "execute_result"
    }
   ],
   "source": [
    "filteredAssignRDF =assignmentDF[['Registration Number']]\n",
    "filteredAssignRDF.shape"
   ]
  },
  {
   "cell_type": "code",
   "execution_count": 144,
   "metadata": {
    "collapsed": true
   },
   "outputs": [],
   "source": [
    "filteredAssignRDF.columns = ['Reg']\n",
    "filteredAssignRDF=filteredAssignRDF.assign(Reg=filteredAssignRDF['Reg'].str.upper())\n",
    "fitleredAssignRDF=filteredAssignRDF.drop_duplicates(['Reg'], keep='last')"
   ]
  },
  {
   "cell_type": "code",
   "execution_count": 145,
   "metadata": {
    "collapsed": true
   },
   "outputs": [],
   "source": [
    "zeroSubmission=pd.concat([filteredStarRDF, filteredAssignRDF])"
   ]
  },
  {
   "cell_type": "code",
   "execution_count": 146,
   "metadata": {},
   "outputs": [
    {
     "data": {
      "text/plain": [
       "(153, 1)"
      ]
     },
     "execution_count": 146,
     "metadata": {},
     "output_type": "execute_result"
    }
   ],
   "source": [
    "zeroSubmission.shape"
   ]
  },
  {
   "cell_type": "code",
   "execution_count": 150,
   "metadata": {
    "collapsed": true
   },
   "outputs": [],
   "source": [
    "zeroSubmission=zeroSubmission.assign(Reg=zeroSubmission['Reg'].str.upper())\n",
    "zeroSubmission=zeroSubmission.drop_duplicates(keep=False)\n",
    "#zeroSubmission"
   ]
  },
  {
   "cell_type": "code",
   "execution_count": 201,
   "metadata": {
    "collapsed": true
   },
   "outputs": [],
   "source": [
    "\n",
    "filteredStarRNDF=starDF[['Registration No.', 'Name']]\n",
    "filteredStarRNDF.columns = ['Reg', 'Name']\n",
    "filteredStarRNDF=filteredStarRNDF.assign(Reg=filteredStarRNDF['Reg'].str.upper())\n",
    "zero_sub=pd.merge(zeroSubmission, filteredStarRNDF, on=\"Reg\")\n",
    "zero_sub=zero_sub[['Name']]\n",
    "zero_sub_html = zero_sub.to_html(classes=\".my_table2\")"
   ]
  },
  {
   "cell_type": "code",
   "execution_count": 211,
   "metadata": {},
   "outputs": [
    {
     "data": {
      "text/html": [
       "<html><body><style>.my_table2 {display: block; margin: 50px;} .my_table {display: block; height: 600px; overflow-y: scroll;} .col3 {height: 100%;display: inline-block;}p {margin: 20px;font-size: 30px;position: absolute;text-align: center;} .p_normal { font-size: 15px;}</style><div style='height: 600px;'><div class='col3' style='background-color:red; width: 20%;'><div style='width: 100%; height: 30%; background-color: pink;'> <p>Logo <br><br>Coming <br><br>Soon</p></div><div style='width: 100%; height: 30%; background-color: green;'><p>Star Earned<br><br>47</p></div><div style='width: 100%; height: 40%; background-color: blue;'><p>Submissions<br><br>119</p></div></div><div class='col3'  style='background-color:orange; width: 50%;'><div style='width: 100%; height: 60%; background-color: #ffedcd;'><p class='p_normal'>Star Performers</p>\n",
       "\n",
       "<style>\n",
       "\n",
       "</style>\n",
       "\n",
       "<div id=\"fig_el152423535119980161234049581\"></div>\n",
       "<script>\n",
       "function mpld3_load_lib(url, callback){\n",
       "  var s = document.createElement('script');\n",
       "  s.src = url;\n",
       "  s.async = true;\n",
       "  s.onreadystatechange = s.onload = callback;\n",
       "  s.onerror = function(){console.warn(\"failed to load library \" + url);};\n",
       "  document.getElementsByTagName(\"head\")[0].appendChild(s);\n",
       "}\n",
       "\n",
       "if(typeof(mpld3) !== \"undefined\" && mpld3._mpld3IsLoaded){\n",
       "   // already loaded: just create the figure\n",
       "   !function(mpld3){\n",
       "       \n",
       "       mpld3.draw_figure(\"fig_el152423535119980161234049581\", {\"width\": 432.0, \"height\": 288.0, \"axes\": [{\"bbox\": [0.125, 0.125, 0.775, 0.755], \"xlim\": [0.0, 9.45], \"ylim\": [-1.04, 13.040000000000001], \"xdomain\": [0.0, 9.45], \"ydomain\": [-1.04, 13.040000000000001], \"xscale\": \"linear\", \"yscale\": \"linear\", \"axes\": [{\"position\": \"bottom\", \"nticks\": 6, \"tickvalues\": null, \"tickformat\": null, \"scale\": \"linear\", \"fontsize\": 10.0, \"grid\": {\"gridOn\": false}, \"visible\": true}, {\"position\": \"left\", \"nticks\": 13, \"tickvalues\": [0, 1, 2, 3, 4, 5, 6, 7, 8, 9, 10, 11, 12], \"tickformat\": [\"Rishina Dargar\", \"Sanjoli Jain\", \"Ayush Kumar\", \"Eakta Sharma\", \"Shivansh Mathur\", \"Mohit Saini\", \"Suraj Kumar\", \"Piyush Vaishya\", \"Swapnil Singh\", \"Aditya Rajora\", \"Alfaij Mansuri\", \"Shruti Ganeriwal\", \"Kuldeep Tailor\"], \"scale\": \"linear\", \"fontsize\": 10.0, \"grid\": {\"gridOn\": false}, \"visible\": true}], \"axesbg\": \"#FFFFFF\", \"axesbgalpha\": null, \"zoomable\": true, \"id\": \"el15242353512344824\", \"lines\": [], \"paths\": [{\"data\": \"data01\", \"xindex\": 0, \"yindex\": 1, \"coordinates\": \"data\", \"pathcodes\": [\"M\", \"L\", \"L\", \"L\", \"Z\"], \"id\": \"el15242353507853872\", \"dasharray\": \"none\", \"alpha\": 1, \"facecolor\": \"#FFFF00\", \"edgecolor\": \"none\", \"edgewidth\": 1.0, \"zorder\": 1}, {\"data\": \"data01\", \"xindex\": 0, \"yindex\": 2, \"coordinates\": \"data\", \"pathcodes\": [\"M\", \"L\", \"L\", \"L\", \"Z\"], \"id\": \"el15242353507856168\", \"dasharray\": \"none\", \"alpha\": 1, \"facecolor\": \"#FFFF00\", \"edgecolor\": \"none\", \"edgewidth\": 1.0, \"zorder\": 1}, {\"data\": \"data01\", \"xindex\": 0, \"yindex\": 3, \"coordinates\": \"data\", \"pathcodes\": [\"M\", \"L\", \"L\", \"L\", \"Z\"], \"id\": \"el15242353508409920\", \"dasharray\": \"none\", \"alpha\": 1, \"facecolor\": \"#FFFF00\", \"edgecolor\": \"none\", \"edgewidth\": 1.0, \"zorder\": 1}, {\"data\": \"data01\", \"xindex\": 0, \"yindex\": 4, \"coordinates\": \"data\", \"pathcodes\": [\"M\", \"L\", \"L\", \"L\", \"Z\"], \"id\": \"el15242353508391848\", \"dasharray\": \"none\", \"alpha\": 1, \"facecolor\": \"#FFFF00\", \"edgecolor\": \"none\", \"edgewidth\": 1.0, \"zorder\": 1}, {\"data\": \"data01\", \"xindex\": 0, \"yindex\": 5, \"coordinates\": \"data\", \"pathcodes\": [\"M\", \"L\", \"L\", \"L\", \"Z\"], \"id\": \"el15242353508392856\", \"dasharray\": \"none\", \"alpha\": 1, \"facecolor\": \"#FFFF00\", \"edgecolor\": \"none\", \"edgewidth\": 1.0, \"zorder\": 1}, {\"data\": \"data02\", \"xindex\": 0, \"yindex\": 1, \"coordinates\": \"data\", \"pathcodes\": [\"M\", \"L\", \"L\", \"L\", \"Z\"], \"id\": \"el15242353508075112\", \"dasharray\": \"none\", \"alpha\": 1, \"facecolor\": \"#FFFF00\", \"edgecolor\": \"none\", \"edgewidth\": 1.0, \"zorder\": 1}, {\"data\": \"data03\", \"xindex\": 0, \"yindex\": 1, \"coordinates\": \"data\", \"pathcodes\": [\"M\", \"L\", \"L\", \"L\", \"Z\"], \"id\": \"el15242353508076176\", \"dasharray\": \"none\", \"alpha\": 1, \"facecolor\": \"#FFFF00\", \"edgecolor\": \"none\", \"edgewidth\": 1.0, \"zorder\": 1}, {\"data\": \"data04\", \"xindex\": 0, \"yindex\": 1, \"coordinates\": \"data\", \"pathcodes\": [\"M\", \"L\", \"L\", \"L\", \"Z\"], \"id\": \"el15242353508352520\", \"dasharray\": \"none\", \"alpha\": 1, \"facecolor\": \"#FFFF00\", \"edgecolor\": \"none\", \"edgewidth\": 1.0, \"zorder\": 1}, {\"data\": \"data05\", \"xindex\": 0, \"yindex\": 1, \"coordinates\": \"data\", \"pathcodes\": [\"M\", \"L\", \"L\", \"L\", \"Z\"], \"id\": \"el15242353508118256\", \"dasharray\": \"none\", \"alpha\": 1, \"facecolor\": \"#FFFF00\", \"edgecolor\": \"none\", \"edgewidth\": 1.0, \"zorder\": 1}, {\"data\": \"data06\", \"xindex\": 0, \"yindex\": 1, \"coordinates\": \"data\", \"pathcodes\": [\"M\", \"L\", \"L\", \"L\", \"Z\"], \"id\": \"el15242353508116464\", \"dasharray\": \"none\", \"alpha\": 1, \"facecolor\": \"#FFFF00\", \"edgecolor\": \"none\", \"edgewidth\": 1.0, \"zorder\": 1}, {\"data\": \"data06\", \"xindex\": 0, \"yindex\": 2, \"coordinates\": \"data\", \"pathcodes\": [\"M\", \"L\", \"L\", \"L\", \"Z\"], \"id\": \"el15242353508154504\", \"dasharray\": \"none\", \"alpha\": 1, \"facecolor\": \"#FFFF00\", \"edgecolor\": \"none\", \"edgewidth\": 1.0, \"zorder\": 1}, {\"data\": \"data07\", \"xindex\": 0, \"yindex\": 1, \"coordinates\": \"data\", \"pathcodes\": [\"M\", \"L\", \"L\", \"L\", \"Z\"], \"id\": \"el15242353508154392\", \"dasharray\": \"none\", \"alpha\": 1, \"facecolor\": \"#FFFF00\", \"edgecolor\": \"none\", \"edgewidth\": 1.0, \"zorder\": 1}, {\"data\": \"data08\", \"xindex\": 0, \"yindex\": 1, \"coordinates\": \"data\", \"pathcodes\": [\"M\", \"L\", \"L\", \"L\", \"Z\"], \"id\": \"el15242353508185032\", \"dasharray\": \"none\", \"alpha\": 1, \"facecolor\": \"#FFFF00\", \"edgecolor\": \"none\", \"edgewidth\": 1.0, \"zorder\": 1}], \"markers\": [], \"texts\": [], \"collections\": [], \"images\": [], \"sharex\": [], \"sharey\": []}], \"data\": {\"data01\": [[0.0, -0.4, 0.6, 1.6, 2.6, 3.6], [1.0, -0.4, 0.6, 1.6, 2.6, 3.6], [1.0, 0.4, 1.4, 2.4000000000000004, 3.4000000000000004, 4.4], [0.0, 0.4, 1.4, 2.4000000000000004, 3.4000000000000004, 4.4]], \"data02\": [[0.0, 4.6], [2.0, 4.6], [2.0, 5.3999999999999995], [0.0, 5.3999999999999995]], \"data03\": [[0.0, 5.6], [3.0, 5.6], [3.0, 6.3999999999999995], [0.0, 6.3999999999999995]], \"data04\": [[0.0, 6.6], [4.0, 6.6], [4.0, 7.3999999999999995], [0.0, 7.3999999999999995]], \"data05\": [[0.0, 7.6], [5.0, 7.6], [5.0, 8.4], [0.0, 8.4]], \"data06\": [[0.0, 8.6, 9.6], [6.0, 8.6, 9.6], [6.0, 9.4, 10.4], [0.0, 9.4, 10.4]], \"data07\": [[0.0, 10.6], [7.0, 10.6], [7.0, 11.4], [0.0, 11.4]], \"data08\": [[0.0, 11.6], [9.0, 11.6], [9.0, 12.4], [0.0, 12.4]]}, \"id\": \"el15242353511998016\", \"plugins\": [{\"type\": \"reset\"}, {\"type\": \"zoom\", \"button\": true, \"enabled\": false}, {\"type\": \"boxzoom\", \"button\": true, \"enabled\": false}]});\n",
       "   }(mpld3);\n",
       "}else if(typeof define === \"function\" && define.amd){\n",
       "   // require.js is available: use it to load d3/mpld3\n",
       "   require.config({paths: {d3: \"https://mpld3.github.io/js/d3.v3.min\"}});\n",
       "   require([\"d3\"], function(d3){\n",
       "      window.d3 = d3;\n",
       "      mpld3_load_lib(\"https://mpld3.github.io/js/mpld3.v0.3.js\", function(){\n",
       "         \n",
       "         mpld3.draw_figure(\"fig_el152423535119980161234049581\", {\"width\": 432.0, \"height\": 288.0, \"axes\": [{\"bbox\": [0.125, 0.125, 0.775, 0.755], \"xlim\": [0.0, 9.45], \"ylim\": [-1.04, 13.040000000000001], \"xdomain\": [0.0, 9.45], \"ydomain\": [-1.04, 13.040000000000001], \"xscale\": \"linear\", \"yscale\": \"linear\", \"axes\": [{\"position\": \"bottom\", \"nticks\": 6, \"tickvalues\": null, \"tickformat\": null, \"scale\": \"linear\", \"fontsize\": 10.0, \"grid\": {\"gridOn\": false}, \"visible\": true}, {\"position\": \"left\", \"nticks\": 13, \"tickvalues\": [0, 1, 2, 3, 4, 5, 6, 7, 8, 9, 10, 11, 12], \"tickformat\": [\"Rishina Dargar\", \"Sanjoli Jain\", \"Ayush Kumar\", \"Eakta Sharma\", \"Shivansh Mathur\", \"Mohit Saini\", \"Suraj Kumar\", \"Piyush Vaishya\", \"Swapnil Singh\", \"Aditya Rajora\", \"Alfaij Mansuri\", \"Shruti Ganeriwal\", \"Kuldeep Tailor\"], \"scale\": \"linear\", \"fontsize\": 10.0, \"grid\": {\"gridOn\": false}, \"visible\": true}], \"axesbg\": \"#FFFFFF\", \"axesbgalpha\": null, \"zoomable\": true, \"id\": \"el15242353512344824\", \"lines\": [], \"paths\": [{\"data\": \"data01\", \"xindex\": 0, \"yindex\": 1, \"coordinates\": \"data\", \"pathcodes\": [\"M\", \"L\", \"L\", \"L\", \"Z\"], \"id\": \"el15242353507853872\", \"dasharray\": \"none\", \"alpha\": 1, \"facecolor\": \"#FFFF00\", \"edgecolor\": \"none\", \"edgewidth\": 1.0, \"zorder\": 1}, {\"data\": \"data01\", \"xindex\": 0, \"yindex\": 2, \"coordinates\": \"data\", \"pathcodes\": [\"M\", \"L\", \"L\", \"L\", \"Z\"], \"id\": \"el15242353507856168\", \"dasharray\": \"none\", \"alpha\": 1, \"facecolor\": \"#FFFF00\", \"edgecolor\": \"none\", \"edgewidth\": 1.0, \"zorder\": 1}, {\"data\": \"data01\", \"xindex\": 0, \"yindex\": 3, \"coordinates\": \"data\", \"pathcodes\": [\"M\", \"L\", \"L\", \"L\", \"Z\"], \"id\": \"el15242353508409920\", \"dasharray\": \"none\", \"alpha\": 1, \"facecolor\": \"#FFFF00\", \"edgecolor\": \"none\", \"edgewidth\": 1.0, \"zorder\": 1}, {\"data\": \"data01\", \"xindex\": 0, \"yindex\": 4, \"coordinates\": \"data\", \"pathcodes\": [\"M\", \"L\", \"L\", \"L\", \"Z\"], \"id\": \"el15242353508391848\", \"dasharray\": \"none\", \"alpha\": 1, \"facecolor\": \"#FFFF00\", \"edgecolor\": \"none\", \"edgewidth\": 1.0, \"zorder\": 1}, {\"data\": \"data01\", \"xindex\": 0, \"yindex\": 5, \"coordinates\": \"data\", \"pathcodes\": [\"M\", \"L\", \"L\", \"L\", \"Z\"], \"id\": \"el15242353508392856\", \"dasharray\": \"none\", \"alpha\": 1, \"facecolor\": \"#FFFF00\", \"edgecolor\": \"none\", \"edgewidth\": 1.0, \"zorder\": 1}, {\"data\": \"data02\", \"xindex\": 0, \"yindex\": 1, \"coordinates\": \"data\", \"pathcodes\": [\"M\", \"L\", \"L\", \"L\", \"Z\"], \"id\": \"el15242353508075112\", \"dasharray\": \"none\", \"alpha\": 1, \"facecolor\": \"#FFFF00\", \"edgecolor\": \"none\", \"edgewidth\": 1.0, \"zorder\": 1}, {\"data\": \"data03\", \"xindex\": 0, \"yindex\": 1, \"coordinates\": \"data\", \"pathcodes\": [\"M\", \"L\", \"L\", \"L\", \"Z\"], \"id\": \"el15242353508076176\", \"dasharray\": \"none\", \"alpha\": 1, \"facecolor\": \"#FFFF00\", \"edgecolor\": \"none\", \"edgewidth\": 1.0, \"zorder\": 1}, {\"data\": \"data04\", \"xindex\": 0, \"yindex\": 1, \"coordinates\": \"data\", \"pathcodes\": [\"M\", \"L\", \"L\", \"L\", \"Z\"], \"id\": \"el15242353508352520\", \"dasharray\": \"none\", \"alpha\": 1, \"facecolor\": \"#FFFF00\", \"edgecolor\": \"none\", \"edgewidth\": 1.0, \"zorder\": 1}, {\"data\": \"data05\", \"xindex\": 0, \"yindex\": 1, \"coordinates\": \"data\", \"pathcodes\": [\"M\", \"L\", \"L\", \"L\", \"Z\"], \"id\": \"el15242353508118256\", \"dasharray\": \"none\", \"alpha\": 1, \"facecolor\": \"#FFFF00\", \"edgecolor\": \"none\", \"edgewidth\": 1.0, \"zorder\": 1}, {\"data\": \"data06\", \"xindex\": 0, \"yindex\": 1, \"coordinates\": \"data\", \"pathcodes\": [\"M\", \"L\", \"L\", \"L\", \"Z\"], \"id\": \"el15242353508116464\", \"dasharray\": \"none\", \"alpha\": 1, \"facecolor\": \"#FFFF00\", \"edgecolor\": \"none\", \"edgewidth\": 1.0, \"zorder\": 1}, {\"data\": \"data06\", \"xindex\": 0, \"yindex\": 2, \"coordinates\": \"data\", \"pathcodes\": [\"M\", \"L\", \"L\", \"L\", \"Z\"], \"id\": \"el15242353508154504\", \"dasharray\": \"none\", \"alpha\": 1, \"facecolor\": \"#FFFF00\", \"edgecolor\": \"none\", \"edgewidth\": 1.0, \"zorder\": 1}, {\"data\": \"data07\", \"xindex\": 0, \"yindex\": 1, \"coordinates\": \"data\", \"pathcodes\": [\"M\", \"L\", \"L\", \"L\", \"Z\"], \"id\": \"el15242353508154392\", \"dasharray\": \"none\", \"alpha\": 1, \"facecolor\": \"#FFFF00\", \"edgecolor\": \"none\", \"edgewidth\": 1.0, \"zorder\": 1}, {\"data\": \"data08\", \"xindex\": 0, \"yindex\": 1, \"coordinates\": \"data\", \"pathcodes\": [\"M\", \"L\", \"L\", \"L\", \"Z\"], \"id\": \"el15242353508185032\", \"dasharray\": \"none\", \"alpha\": 1, \"facecolor\": \"#FFFF00\", \"edgecolor\": \"none\", \"edgewidth\": 1.0, \"zorder\": 1}], \"markers\": [], \"texts\": [], \"collections\": [], \"images\": [], \"sharex\": [], \"sharey\": []}], \"data\": {\"data01\": [[0.0, -0.4, 0.6, 1.6, 2.6, 3.6], [1.0, -0.4, 0.6, 1.6, 2.6, 3.6], [1.0, 0.4, 1.4, 2.4000000000000004, 3.4000000000000004, 4.4], [0.0, 0.4, 1.4, 2.4000000000000004, 3.4000000000000004, 4.4]], \"data02\": [[0.0, 4.6], [2.0, 4.6], [2.0, 5.3999999999999995], [0.0, 5.3999999999999995]], \"data03\": [[0.0, 5.6], [3.0, 5.6], [3.0, 6.3999999999999995], [0.0, 6.3999999999999995]], \"data04\": [[0.0, 6.6], [4.0, 6.6], [4.0, 7.3999999999999995], [0.0, 7.3999999999999995]], \"data05\": [[0.0, 7.6], [5.0, 7.6], [5.0, 8.4], [0.0, 8.4]], \"data06\": [[0.0, 8.6, 9.6], [6.0, 8.6, 9.6], [6.0, 9.4, 10.4], [0.0, 9.4, 10.4]], \"data07\": [[0.0, 10.6], [7.0, 10.6], [7.0, 11.4], [0.0, 11.4]], \"data08\": [[0.0, 11.6], [9.0, 11.6], [9.0, 12.4], [0.0, 12.4]]}, \"id\": \"el15242353511998016\", \"plugins\": [{\"type\": \"reset\"}, {\"type\": \"zoom\", \"button\": true, \"enabled\": false}, {\"type\": \"boxzoom\", \"button\": true, \"enabled\": false}]});\n",
       "      });\n",
       "    });\n",
       "}else{\n",
       "    // require.js not available: dynamically load d3 & mpld3\n",
       "    mpld3_load_lib(\"https://mpld3.github.io/js/d3.v3.min.js\", function(){\n",
       "         mpld3_load_lib(\"https://mpld3.github.io/js/mpld3.v0.3.js\", function(){\n",
       "                 \n",
       "                 mpld3.draw_figure(\"fig_el152423535119980161234049581\", {\"width\": 432.0, \"height\": 288.0, \"axes\": [{\"bbox\": [0.125, 0.125, 0.775, 0.755], \"xlim\": [0.0, 9.45], \"ylim\": [-1.04, 13.040000000000001], \"xdomain\": [0.0, 9.45], \"ydomain\": [-1.04, 13.040000000000001], \"xscale\": \"linear\", \"yscale\": \"linear\", \"axes\": [{\"position\": \"bottom\", \"nticks\": 6, \"tickvalues\": null, \"tickformat\": null, \"scale\": \"linear\", \"fontsize\": 10.0, \"grid\": {\"gridOn\": false}, \"visible\": true}, {\"position\": \"left\", \"nticks\": 13, \"tickvalues\": [0, 1, 2, 3, 4, 5, 6, 7, 8, 9, 10, 11, 12], \"tickformat\": [\"Rishina Dargar\", \"Sanjoli Jain\", \"Ayush Kumar\", \"Eakta Sharma\", \"Shivansh Mathur\", \"Mohit Saini\", \"Suraj Kumar\", \"Piyush Vaishya\", \"Swapnil Singh\", \"Aditya Rajora\", \"Alfaij Mansuri\", \"Shruti Ganeriwal\", \"Kuldeep Tailor\"], \"scale\": \"linear\", \"fontsize\": 10.0, \"grid\": {\"gridOn\": false}, \"visible\": true}], \"axesbg\": \"#FFFFFF\", \"axesbgalpha\": null, \"zoomable\": true, \"id\": \"el15242353512344824\", \"lines\": [], \"paths\": [{\"data\": \"data01\", \"xindex\": 0, \"yindex\": 1, \"coordinates\": \"data\", \"pathcodes\": [\"M\", \"L\", \"L\", \"L\", \"Z\"], \"id\": \"el15242353507853872\", \"dasharray\": \"none\", \"alpha\": 1, \"facecolor\": \"#FFFF00\", \"edgecolor\": \"none\", \"edgewidth\": 1.0, \"zorder\": 1}, {\"data\": \"data01\", \"xindex\": 0, \"yindex\": 2, \"coordinates\": \"data\", \"pathcodes\": [\"M\", \"L\", \"L\", \"L\", \"Z\"], \"id\": \"el15242353507856168\", \"dasharray\": \"none\", \"alpha\": 1, \"facecolor\": \"#FFFF00\", \"edgecolor\": \"none\", \"edgewidth\": 1.0, \"zorder\": 1}, {\"data\": \"data01\", \"xindex\": 0, \"yindex\": 3, \"coordinates\": \"data\", \"pathcodes\": [\"M\", \"L\", \"L\", \"L\", \"Z\"], \"id\": \"el15242353508409920\", \"dasharray\": \"none\", \"alpha\": 1, \"facecolor\": \"#FFFF00\", \"edgecolor\": \"none\", \"edgewidth\": 1.0, \"zorder\": 1}, {\"data\": \"data01\", \"xindex\": 0, \"yindex\": 4, \"coordinates\": \"data\", \"pathcodes\": [\"M\", \"L\", \"L\", \"L\", \"Z\"], \"id\": \"el15242353508391848\", \"dasharray\": \"none\", \"alpha\": 1, \"facecolor\": \"#FFFF00\", \"edgecolor\": \"none\", \"edgewidth\": 1.0, \"zorder\": 1}, {\"data\": \"data01\", \"xindex\": 0, \"yindex\": 5, \"coordinates\": \"data\", \"pathcodes\": [\"M\", \"L\", \"L\", \"L\", \"Z\"], \"id\": \"el15242353508392856\", \"dasharray\": \"none\", \"alpha\": 1, \"facecolor\": \"#FFFF00\", \"edgecolor\": \"none\", \"edgewidth\": 1.0, \"zorder\": 1}, {\"data\": \"data02\", \"xindex\": 0, \"yindex\": 1, \"coordinates\": \"data\", \"pathcodes\": [\"M\", \"L\", \"L\", \"L\", \"Z\"], \"id\": \"el15242353508075112\", \"dasharray\": \"none\", \"alpha\": 1, \"facecolor\": \"#FFFF00\", \"edgecolor\": \"none\", \"edgewidth\": 1.0, \"zorder\": 1}, {\"data\": \"data03\", \"xindex\": 0, \"yindex\": 1, \"coordinates\": \"data\", \"pathcodes\": [\"M\", \"L\", \"L\", \"L\", \"Z\"], \"id\": \"el15242353508076176\", \"dasharray\": \"none\", \"alpha\": 1, \"facecolor\": \"#FFFF00\", \"edgecolor\": \"none\", \"edgewidth\": 1.0, \"zorder\": 1}, {\"data\": \"data04\", \"xindex\": 0, \"yindex\": 1, \"coordinates\": \"data\", \"pathcodes\": [\"M\", \"L\", \"L\", \"L\", \"Z\"], \"id\": \"el15242353508352520\", \"dasharray\": \"none\", \"alpha\": 1, \"facecolor\": \"#FFFF00\", \"edgecolor\": \"none\", \"edgewidth\": 1.0, \"zorder\": 1}, {\"data\": \"data05\", \"xindex\": 0, \"yindex\": 1, \"coordinates\": \"data\", \"pathcodes\": [\"M\", \"L\", \"L\", \"L\", \"Z\"], \"id\": \"el15242353508118256\", \"dasharray\": \"none\", \"alpha\": 1, \"facecolor\": \"#FFFF00\", \"edgecolor\": \"none\", \"edgewidth\": 1.0, \"zorder\": 1}, {\"data\": \"data06\", \"xindex\": 0, \"yindex\": 1, \"coordinates\": \"data\", \"pathcodes\": [\"M\", \"L\", \"L\", \"L\", \"Z\"], \"id\": \"el15242353508116464\", \"dasharray\": \"none\", \"alpha\": 1, \"facecolor\": \"#FFFF00\", \"edgecolor\": \"none\", \"edgewidth\": 1.0, \"zorder\": 1}, {\"data\": \"data06\", \"xindex\": 0, \"yindex\": 2, \"coordinates\": \"data\", \"pathcodes\": [\"M\", \"L\", \"L\", \"L\", \"Z\"], \"id\": \"el15242353508154504\", \"dasharray\": \"none\", \"alpha\": 1, \"facecolor\": \"#FFFF00\", \"edgecolor\": \"none\", \"edgewidth\": 1.0, \"zorder\": 1}, {\"data\": \"data07\", \"xindex\": 0, \"yindex\": 1, \"coordinates\": \"data\", \"pathcodes\": [\"M\", \"L\", \"L\", \"L\", \"Z\"], \"id\": \"el15242353508154392\", \"dasharray\": \"none\", \"alpha\": 1, \"facecolor\": \"#FFFF00\", \"edgecolor\": \"none\", \"edgewidth\": 1.0, \"zorder\": 1}, {\"data\": \"data08\", \"xindex\": 0, \"yindex\": 1, \"coordinates\": \"data\", \"pathcodes\": [\"M\", \"L\", \"L\", \"L\", \"Z\"], \"id\": \"el15242353508185032\", \"dasharray\": \"none\", \"alpha\": 1, \"facecolor\": \"#FFFF00\", \"edgecolor\": \"none\", \"edgewidth\": 1.0, \"zorder\": 1}], \"markers\": [], \"texts\": [], \"collections\": [], \"images\": [], \"sharex\": [], \"sharey\": []}], \"data\": {\"data01\": [[0.0, -0.4, 0.6, 1.6, 2.6, 3.6], [1.0, -0.4, 0.6, 1.6, 2.6, 3.6], [1.0, 0.4, 1.4, 2.4000000000000004, 3.4000000000000004, 4.4], [0.0, 0.4, 1.4, 2.4000000000000004, 3.4000000000000004, 4.4]], \"data02\": [[0.0, 4.6], [2.0, 4.6], [2.0, 5.3999999999999995], [0.0, 5.3999999999999995]], \"data03\": [[0.0, 5.6], [3.0, 5.6], [3.0, 6.3999999999999995], [0.0, 6.3999999999999995]], \"data04\": [[0.0, 6.6], [4.0, 6.6], [4.0, 7.3999999999999995], [0.0, 7.3999999999999995]], \"data05\": [[0.0, 7.6], [5.0, 7.6], [5.0, 8.4], [0.0, 8.4]], \"data06\": [[0.0, 8.6, 9.6], [6.0, 8.6, 9.6], [6.0, 9.4, 10.4], [0.0, 9.4, 10.4]], \"data07\": [[0.0, 10.6], [7.0, 10.6], [7.0, 11.4], [0.0, 11.4]], \"data08\": [[0.0, 11.6], [9.0, 11.6], [9.0, 12.4], [0.0, 12.4]]}, \"id\": \"el15242353511998016\", \"plugins\": [{\"type\": \"reset\"}, {\"type\": \"zoom\", \"button\": true, \"enabled\": false}, {\"type\": \"boxzoom\", \"button\": true, \"enabled\": false}]});\n",
       "            })\n",
       "         });\n",
       "}\n",
       "</script></div><div style='width: 100%; height: 40%; background-color: #fecdcc;'><div style='width: 30%; height:100%; background-color: #cdefad;display: inline-block;'><p>Members <br><br>34</p></div><div  style='width: 69%; height:100%; background-color: #edcded; display: inline-block;'><p class='p_normal'>Students with 0 Submissions<br><br></p><table border=\"1\" class=\"dataframe .my_table2\">\n",
       "  <thead>\n",
       "    <tr style=\"text-align: right;\">\n",
       "      <th></th>\n",
       "      <th>Name</th>\n",
       "    </tr>\n",
       "  </thead>\n",
       "  <tbody>\n",
       "    <tr>\n",
       "      <th>0</th>\n",
       "      <td>Chayan Jain</td>\n",
       "    </tr>\n",
       "    <tr>\n",
       "      <th>1</th>\n",
       "      <td>pranjal shah</td>\n",
       "    </tr>\n",
       "    <tr>\n",
       "      <th>2</th>\n",
       "      <td>Reena Badesra</td>\n",
       "    </tr>\n",
       "    <tr>\n",
       "      <th>3</th>\n",
       "      <td>Rajendra Singh Devara</td>\n",
       "    </tr>\n",
       "    <tr>\n",
       "      <th>4</th>\n",
       "      <td>Mohit Agarwal</td>\n",
       "    </tr>\n",
       "  </tbody>\n",
       "</table></div></div></div><div class='col3' style='background-color:yellow;  width: 29%;'><table border=\"1\" class=\"dataframe my_table\">\n",
       "  <thead>\n",
       "    <tr style=\"text-align: right;\">\n",
       "      <th></th>\n",
       "      <th>Name</th>\n",
       "      <th>AssignmentNo</th>\n",
       "    </tr>\n",
       "  </thead>\n",
       "  <tbody>\n",
       "    <tr>\n",
       "      <th>64</th>\n",
       "      <td>Shruti Ganeriwal</td>\n",
       "      <td>6</td>\n",
       "    </tr>\n",
       "    <tr>\n",
       "      <th>85</th>\n",
       "      <td>Jaya Sharma</td>\n",
       "      <td>6</td>\n",
       "    </tr>\n",
       "    <tr>\n",
       "      <th>73</th>\n",
       "      <td>Eshan Talwadiya</td>\n",
       "      <td>6</td>\n",
       "    </tr>\n",
       "    <tr>\n",
       "      <th>48</th>\n",
       "      <td>Eakta Sharma</td>\n",
       "      <td>6</td>\n",
       "    </tr>\n",
       "    <tr>\n",
       "      <th>59</th>\n",
       "      <td>PREM SINGH RATHORE</td>\n",
       "      <td>6</td>\n",
       "    </tr>\n",
       "    <tr>\n",
       "      <th>110</th>\n",
       "      <td>Aditya Rajora</td>\n",
       "      <td>6</td>\n",
       "    </tr>\n",
       "    <tr>\n",
       "      <th>17</th>\n",
       "      <td>Swapnil Singh</td>\n",
       "      <td>6</td>\n",
       "    </tr>\n",
       "    <tr>\n",
       "      <th>24</th>\n",
       "      <td>Sakshi Agarwal</td>\n",
       "      <td>6</td>\n",
       "    </tr>\n",
       "    <tr>\n",
       "      <th>35</th>\n",
       "      <td>Ayush Kumar</td>\n",
       "      <td>6</td>\n",
       "    </tr>\n",
       "    <tr>\n",
       "      <th>95</th>\n",
       "      <td>Sudhanshu Jain</td>\n",
       "      <td>5</td>\n",
       "    </tr>\n",
       "    <tr>\n",
       "      <th>93</th>\n",
       "      <td>Sahil Chopra</td>\n",
       "      <td>5</td>\n",
       "    </tr>\n",
       "    <tr>\n",
       "      <th>4</th>\n",
       "      <td>Piyush Vaishya</td>\n",
       "      <td>5</td>\n",
       "    </tr>\n",
       "    <tr>\n",
       "      <th>10</th>\n",
       "      <td>Megha Gupta</td>\n",
       "      <td>5</td>\n",
       "    </tr>\n",
       "    <tr>\n",
       "      <th>69</th>\n",
       "      <td>Kuldeep Tailor</td>\n",
       "      <td>5</td>\n",
       "    </tr>\n",
       "    <tr>\n",
       "      <th>42</th>\n",
       "      <td>Mohit Saini</td>\n",
       "      <td>5</td>\n",
       "    </tr>\n",
       "    <tr>\n",
       "      <th>30</th>\n",
       "      <td>Suraj Kumar</td>\n",
       "      <td>5</td>\n",
       "    </tr>\n",
       "    <tr>\n",
       "      <th>50</th>\n",
       "      <td>Diksha Bothra</td>\n",
       "      <td>4</td>\n",
       "    </tr>\n",
       "    <tr>\n",
       "      <th>99</th>\n",
       "      <td>Shivansh Mathur</td>\n",
       "      <td>4</td>\n",
       "    </tr>\n",
       "    <tr>\n",
       "      <th>53</th>\n",
       "      <td>Shubham Kumar</td>\n",
       "      <td>3</td>\n",
       "    </tr>\n",
       "    <tr>\n",
       "      <th>87</th>\n",
       "      <td>Alfaij Mansuri</td>\n",
       "      <td>3</td>\n",
       "    </tr>\n",
       "    <tr>\n",
       "      <th>102</th>\n",
       "      <td>Rishina Dargar</td>\n",
       "      <td>3</td>\n",
       "    </tr>\n",
       "    <tr>\n",
       "      <th>37</th>\n",
       "      <td>Priyanshi Agrawal</td>\n",
       "      <td>2</td>\n",
       "    </tr>\n",
       "    <tr>\n",
       "      <th>104</th>\n",
       "      <td>Chahat Jain</td>\n",
       "      <td>2</td>\n",
       "    </tr>\n",
       "    <tr>\n",
       "      <th>11</th>\n",
       "      <td>Sanjoli Jain</td>\n",
       "      <td>2</td>\n",
       "    </tr>\n",
       "    <tr>\n",
       "      <th>77</th>\n",
       "      <td>Abhishek Sharma</td>\n",
       "      <td>1</td>\n",
       "    </tr>\n",
       "    <tr>\n",
       "      <th>88</th>\n",
       "      <td>Manas</td>\n",
       "      <td>1</td>\n",
       "    </tr>\n",
       "    <tr>\n",
       "      <th>18</th>\n",
       "      <td>Pankaj Kumar</td>\n",
       "      <td>1</td>\n",
       "    </tr>\n",
       "    <tr>\n",
       "      <th>111</th>\n",
       "      <td>Disti Jain</td>\n",
       "      <td>1</td>\n",
       "    </tr>\n",
       "  </tbody>\n",
       "</table></div></div></body></html>"
      ],
      "text/plain": [
       "<IPython.core.display.HTML object>"
      ]
     },
     "execution_count": 211,
     "metadata": {},
     "output_type": "execute_result"
    }
   ],
   "source": [
    "template = \"<html><body><style>.my_table2 {display: block; margin: 50px;} .my_table {display: block; height: 600px; overflow-y: scroll;} .col3 {height: 100%;display: inline-block;}p {margin: 20px;font-size: 30px;position: absolute;text-align: center;} .p_normal { font-size: 15px;}</style><div style='height: 600px;'><div class='col3' style='background-color:red; width: 20%;'><div style='width: 100%; height: 30%; background-color: pink;'> <p>Logo <br><br>Coming <br><br>Soon</p></div><div style='width: 100%; height: 30%; background-color: green;'><p>Star Earned<br><br>\"+ str(totalStarEarned) +\"</p></div><div style='width: 100%; height: 40%; background-color: blue;'><p>Submissions<br><br>\" + str(totalSubmission) + \"</p></div></div><div class='col3'  style='background-color:orange; width: 50%;'><div style='width: 100%; height: 60%; background-color: #ffedcd;'><p class='p_normal'>Star Performers</p>\"+starGraphHTML+\"</div><div style='width: 100%; height: 40%; background-color: #fecdcc;'><div style='width: 30%; height:100%; background-color: #cdefad;display: inline-block;'><p>Members <br><br>\"+ str(TotalMembers) +\"</p></div><div  style='width: 69%; height:100%; background-color: #edcded; display: inline-block;'><p class='p_normal'>Students with 0 Submissions<br><br></p>\"+zero_sub_html+\"</div></div></div><div class='col3' style='background-color:yellow;  width: 29%;'>\"+assignSubListHTML+\"</div></div></body></html>\"\n",
    "HTML(template)"
   ]
  },
  {
   "cell_type": "code",
   "execution_count": 212,
   "metadata": {},
   "outputs": [
    {
     "name": "stdout",
     "output_type": "stream",
     "text": [
      "for dashboard tile output on github check assign-7-output-ss-1.png and assign-7-output-ss-2.png\n"
     ]
    }
   ],
   "source": [
    "print('for dashboard tile output on github check assign-7-output-ss-1.png and assign-7-output-ss-2.png')"
   ]
  },
  {
   "cell_type": "code",
   "execution_count": null,
   "metadata": {
    "collapsed": true
   },
   "outputs": [],
   "source": []
  }
 ],
 "metadata": {
  "kernelspec": {
   "display_name": "Python 3",
   "language": "python",
   "name": "python3"
  },
  "language_info": {
   "codemirror_mode": {
    "name": "ipython",
    "version": 3
   },
   "file_extension": ".py",
   "mimetype": "text/x-python",
   "name": "python",
   "nbconvert_exporter": "python",
   "pygments_lexer": "ipython3",
   "version": "3.6.1"
  }
 },
 "nbformat": 4,
 "nbformat_minor": 2
}
